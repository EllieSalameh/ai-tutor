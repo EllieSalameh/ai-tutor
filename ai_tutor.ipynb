{
 "cells": [
  {
   "cell_type": "code",
   "execution_count": 6,
   "id": "f4a4edad-d454-42f1-b590-d8657fa86a90",
   "metadata": {},
   "outputs": [
    {
     "name": "stdout",
     "output_type": "stream",
     "text": [
      "PDF Extract (first 300 chars):\n",
      " Introduction to Data Science Data science is an interdisciplinary field that uses scientific methods, processes, algorithms, and systems to extract knowledge and insights from data. Applications include: - Machine Learning - Natural Language Processing - Data Visualization Conclusion: Data science i\n"
     ]
    }
   ],
   "source": [
    "# --- Import Libraries ---\n",
    "import pdfplumber\n",
    "import docx\n",
    "import re\n",
    "\n",
    "# --- Extract text from PDF ---\n",
    "def extract_text_from_pdf(pdf_path):\n",
    "    text = \"\"\n",
    "    with pdfplumber.open(pdf_path) as pdf:\n",
    "        for page in pdf.pages:\n",
    "            text += page.extract_text() + \"\\n\"\n",
    "    return text\n",
    "\n",
    "# --- Extract text from DOCX ---\n",
    "def extract_text_from_docx(docx_path):\n",
    "    doc = docx.Document(docx_path)\n",
    "    text = \"\\n\".join([para.text for para in doc.paragraphs])\n",
    "    return text\n",
    "\n",
    "# --- Clean text ---\n",
    "def clean_text(text):\n",
    "    text = re.sub(r'\\n+', ' ', text)  # remove extra newlines\n",
    "    text = re.sub(r'\\s+', ' ', text)  # remove multiple spaces\n",
    "    return text.strip()\n",
    "\n",
    "# --- Example usage ---\n",
    "pdf_text = extract_text_from_pdf(r\"C:\\Users\\Potato\\anaconda_projects\\sample.pdf\")\n",
    "\n",
    "pdf_text = clean_text(pdf_text)\n",
    "\n",
    "\n",
    "print(\"PDF Extract (first 300 chars):\\n\", pdf_text[:300])\n",
    "# now we can read and clean text from a pdf\n",
    "\n"
   ]
  },
  {
   "cell_type": "code",
   "execution_count": 2,
   "id": "5bd80a71-8778-459a-a762-dda3700f3be3",
   "metadata": {},
   "outputs": [
    {
     "name": "stdout",
     "output_type": "stream",
     "text": [
      "C:\\Users\\Potato\\anaconda_projects\\5ee114ed-4213-46f1-822e-9627a2356a53\n"
     ]
    }
   ],
   "source": [
    "import os\n",
    "print(os.getcwd())\n"
   ]
  },
  {
   "cell_type": "code",
   "execution_count": 3,
   "id": "1adc51f2-4a9d-4447-8cc0-dc4d24208665",
   "metadata": {},
   "outputs": [],
   "source": [
    "os.chdir(r\"C:\\Users\\Potato\\anaconda_projects\")\n",
    "\n"
   ]
  },
  {
   "cell_type": "code",
   "execution_count": 10,
   "id": "b3a71894-12fa-44b9-95c1-44f114f0d133",
   "metadata": {
    "scrolled": true
   },
   "outputs": [
    {
     "name": "stdout",
     "output_type": "stream",
     "text": [
      "Summary:\n",
      " Introduction to Data Science Data science is an interdisciplinary field that uses scientific methods, processes, algorithms, and systems to extract knowledge and insights from data. Applications include: - Machine Learning - Natural Language Processing - Data Visualization Conclusion: Data science is a growing field with high demand in the job market.\n"
     ]
    },
    {
     "name": "stderr",
     "output_type": "stream",
     "text": [
      "[nltk_data] Downloading package punkt to\n",
      "[nltk_data]     C:\\Users\\Potato\\AppData\\Roaming\\nltk_data...\n",
      "[nltk_data]   Package punkt is already up-to-date!\n",
      "[nltk_data] Downloading package stopwords to\n",
      "[nltk_data]     C:\\Users\\Potato\\AppData\\Roaming\\nltk_data...\n",
      "[nltk_data]   Package stopwords is already up-to-date!\n"
     ]
    }
   ],
   "source": [
    "import nltk\n",
    "from nltk.corpus import stopwords\n",
    "from nltk.tokenize import word_tokenize, sent_tokenize\n",
    "import string\n",
    "\n",
    "# Download NLTK resources (only first time)\n",
    "nltk.download(\"punkt\")\n",
    "nltk.download(\"stopwords\")\n",
    "\n",
    "def summarize_text(text, num_sentences=3):\n",
    "    # Tokenize sentences\n",
    "    sentences = sent_tokenize(text)\n",
    "    \n",
    "    # Tokenize words & remove stopwords/punctuation\n",
    "    stop_words = set(stopwords.words(\"english\"))\n",
    "    words = word_tokenize(text.lower())\n",
    "    words = [w for w in words if w not in stop_words and w not in string.punctuation]\n",
    "    \n",
    "    # Build frequency table\n",
    "    freq_table = {}\n",
    "    for word in words:\n",
    "        freq_table[word] = freq_table.get(word, 0) + 1\n",
    "    \n",
    "    # Score each sentence\n",
    "    sentence_scores = {}\n",
    "    for sent in sentences:\n",
    "        for word in word_tokenize(sent.lower()):\n",
    "            if word in freq_table:\n",
    "                sentence_scores[sent] = sentence_scores.get(sent, 0) + freq_table[word]\n",
    "    \n",
    "    # Pick top sentences\n",
    "    summary_sentences = sorted(sentence_scores, key=sentence_scores.get, reverse=True)[:num_sentences]\n",
    "    \n",
    "    # Join into a summary\n",
    "    summary = \" \".join(summary_sentences)\n",
    "    return summary\n",
    "\n",
    "# Example: Summarize the PDF text\n",
    "summary = summarize_text(pdf_text, num_sentences=3)\n",
    "print(\"Summary:\\n\", summary)\n",
    "\n"
   ]
  },
  {
   "cell_type": "code",
   "execution_count": null,
   "id": "e570f424-1ae4-44ee-8139-681f81067845",
   "metadata": {},
   "outputs": [],
   "source": []
  }
 ],
 "metadata": {
  "kernelspec": {
   "display_name": "Python [conda env:base] *",
   "language": "python",
   "name": "conda-base-py"
  },
  "language_info": {
   "codemirror_mode": {
    "name": "ipython",
    "version": 3
   },
   "file_extension": ".py",
   "mimetype": "text/x-python",
   "name": "python",
   "nbconvert_exporter": "python",
   "pygments_lexer": "ipython3",
   "version": "3.13.5"
  }
 },
 "nbformat": 4,
 "nbformat_minor": 5
}
